{
 "cells": [
  {
   "cell_type": "code",
   "execution_count": 5,
   "metadata": {
    "scrolled": false
   },
   "outputs": [],
   "source": [
    "#ignore, used to look up OG contents of input file\n",
    "import os\n",
    "import pandas as pd\n",
    "import numpy as np\n",
    "from scipy.stats import zscore\n",
    "\n",
    "path = './data/'\n",
    "filename_read = os.path.join(path,'heart.csv')\n",
    "df = pd.read_csv(filename_read)\n"
   ]
  },
  {
   "cell_type": "code",
   "execution_count": 6,
   "metadata": {
    "scrolled": true
   },
   "outputs": [],
   "source": [
    "#Useful functions\n",
    "import os\n",
    "import pandas as pd\n",
    "\n",
    "path = \"./data/\"\n",
    "\n",
    "filename_read = os.path.join(path, \"heart.csv\")\n",
    "df = pd.read_csv(filename_read)\n",
    "\n",
    "#Randomize the data\n",
    "np.random.seed(50)\n",
    "df = df.reindex(np.random.permutation(df.index))\n",
    "df.reset_index(inplace=True, drop=True)\n",
    "\n",
    "\n",
    "headers = list(df.columns.values)\n",
    "fields = []\n",
    "\n",
    "for field in headers:\n",
    "    fields.append({\n",
    "        'data Val' : field,\n",
    "        'mean' : df[field].mean(),\n",
    "        'var' : df[field].var(),\n",
    "        'sdev' : df[field].std()\n",
    "    })\n",
    "    \n",
    "# Convert a Pandas dataframe to the x,y inputs that TensorFlow needs\n",
    "def to_xy(df, target):\n",
    "    result = []\n",
    "    for x in df.columns:\n",
    "        if x != target:\n",
    "            result.append(x)\n",
    "    # find out the type of the target column.  Is it really this hard? :(\n",
    "    target_type = df[target].dtypes\n",
    "    target_type = target_type[0] if hasattr(\n",
    "        target_type, '__iter__') else target_type\n",
    "    # Encode to int for classification, float otherwise. TensorFlow likes 32 bits.\n",
    "    if target_type in (np.int64, np.int32):\n",
    "        # Classification\n",
    "        dummies = pd.get_dummies(df[target])\n",
    "        return df[result].values.astype(np.float32), dummies.values.astype(np.float32)\n",
    "    # Regression\n",
    "    return df[result].values.astype(np.float32), df[[target]].values.astype(np.float32)\n",
    "\n",
    "    \n"
   ]
  },
  {
   "cell_type": "code",
   "execution_count": 7,
   "metadata": {},
   "outputs": [
    {
     "name": "stdout",
     "output_type": "stream",
     "text": [
      "WARNING:tensorflow:From C:\\Users\\Kody\\Anaconda3\\envs\\tensorflow\\lib\\site-packages\\tensorflow\\python\\framework\\op_def_library.py:263: colocate_with (from tensorflow.python.framework.ops) is deprecated and will be removed in a future version.\n",
      "Instructions for updating:\n",
      "Colocations handled automatically by placer.\n",
      "WARNING:tensorflow:From C:\\Users\\Kody\\Anaconda3\\envs\\tensorflow\\lib\\site-packages\\tensorflow\\python\\ops\\math_ops.py:3066: to_int32 (from tensorflow.python.ops.math_ops) is deprecated and will be removed in a future version.\n",
      "Instructions for updating:\n",
      "Use tf.cast instead.\n",
      "Train on 217 samples, validate on 66 samples\n",
      "Epoch 1/500\n",
      " - 0s - loss: 0.6931 - val_loss: 0.6931\n",
      "Epoch 2/500\n",
      " - 0s - loss: 0.6928 - val_loss: 0.6930\n",
      "Epoch 3/500\n",
      " - 0s - loss: 0.6926 - val_loss: 0.6929\n",
      "Epoch 4/500\n",
      " - 0s - loss: 0.6924 - val_loss: 0.6929\n",
      "Epoch 5/500\n",
      " - 0s - loss: 0.6922 - val_loss: 0.6928\n",
      "Epoch 6/500\n",
      " - 0s - loss: 0.6920 - val_loss: 0.6928\n",
      "Epoch 00006: early stopping\n"
     ]
    },
    {
     "data": {
      "text/plain": [
       "<keras.callbacks.History at 0x1caaf200c88>"
      ]
     },
     "execution_count": 7,
     "metadata": {},
     "output_type": "execute_result"
    }
   ],
   "source": [
    "#Classification Neural Network\n",
    "\n",
    "import tensorflow as tf \n",
    "import pandas as pd \n",
    "import numpy as np \n",
    "import requests \n",
    "import io \n",
    "from sklearn.model_selection import train_test_split \n",
    "from sklearn import metrics \n",
    "from keras.models import Sequential \n",
    "from keras.layers.core import Dense, Activation \n",
    "from keras.callbacks import EarlyStopping\n",
    "\n",
    "path = \"./data/\"\n",
    "\n",
    "filename_read = os.path.join(path, \"heart.csv\") \n",
    "df = pd.read_csv(filename_read)\n",
    "\n",
    "#one-hot coding for catagory classification data \n",
    "one_hot = pd.get_dummies(df['sex']) \n",
    "df = df.drop('sex', axis = 1) \n",
    "df = df.join(one_hot) \n",
    "df.rename(columns = { 0: \"female\",\n",
    "                     1: \"male\"}, \n",
    "          inplace = True) \n",
    "one_hot = pd.get_dummies(df['fbs']) \n",
    "df = df.drop('fbs', axis = 1) \n",
    "df = df.join(one_hot)\n",
    "df.rename(columns = { 0: \"fbs-no\",\n",
    "                     1: \"fbs-yes\"}, \n",
    "          inplace = True) \n",
    "\n",
    "one_hot = pd.get_dummies(df['exang'])\n",
    "df = df.drop('exang', axis = 1) \n",
    "df = df.join(one_hot)\n",
    "df.rename(columns = { 0: \"exang-no\",\n",
    "                     1: \"exang-yes\"},\n",
    "          inplace = True)\n",
    "\n",
    "#Normalize the real number data\n",
    "df['age'] = zscore(df['age']) \n",
    "df['cp'] = zscore(df['cp']) \n",
    "df['trestbps'] = zscore(df['trestbps']) \n",
    "df['chol'] = zscore(df['chol']) \n",
    "df['restecg'] = zscore(df['restecg']) \n",
    "df['age'] = zscore(df['age']) \n",
    "df['thalach'] = zscore(df['thalach']) \n",
    "df['oldpeak'] = zscore(df['oldpeak']) \n",
    "df['slope'] = zscore(df['slope']) \n",
    "df['ca'] = zscore(df['ca']) \n",
    "df['thal'] = zscore(df['thal'])\n",
    "\n",
    "df = df.reindex(np.random.permutation(df.index))#shuffle the data \n",
    "df.reset_index(inplace=True, drop=True)\n",
    "\n",
    "#Pre-segment the data\n",
    "mask = np.random.rand(len(df)) < 0.7\n",
    "trainDF = pd.DataFrame(df[mask])\n",
    "validationDF = pd.DataFrame(df[~mask])\n",
    "\n",
    "\n",
    "x,y = to_xy(trainDF, \"target\")\n",
    "x1,y1 = to_xy(validationDF, \"target\")\n",
    "\n",
    "#split into train/test \n",
    "x_train, x_test, y_train, y_test = train_test_split(x,y, test_size=.30, random_state=42)#Train on 70% Tes on 30\n",
    "\n",
    "model = Sequential()\n",
    "model.add(Dense(2, input_dim=x.shape[1], activation='relu'))#Input layer\n",
    "model.add(Dense(1,activation='relu')) #Hidden Layer\n",
    "model.add(Dense(y.shape[1],activation='softmax')) #Output Layer\n",
    "model.compile(loss='categorical_crossentropy', optimizer='adam') \n",
    "monitor = EarlyStopping(monitor='val_loss', min_delta=1e-3,patience=5, verbose=1, mode='auto')#Stop, when improvments arn't made for 5 turns              \n",
    "\n",
    "model.fit(x,y,validation_data=(x_test,y_test),callbacks=[monitor], verbose=2,epochs=500)"
   ]
  },
  {
   "cell_type": "code",
   "execution_count": 8,
   "metadata": {
    "scrolled": true
   },
   "outputs": [],
   "source": [
    "from sklearn import metrics\n",
    "import tensorflow as tf\n",
    "\n",
    "#Create Predictions for each person in the (Prediction : Level Of Confidence)\n",
    "pred = model.predict(x_test)\n",
    "#print(pred)"
   ]
  },
  {
   "cell_type": "code",
   "execution_count": 9,
   "metadata": {},
   "outputs": [],
   "source": [
    "#Displays the raw probability of chosen class (prediction for test set)\n",
    "pred = np.argmax(pred,axis=1)\n",
    "#print(pred)"
   ]
  },
  {
   "cell_type": "code",
   "execution_count": 10,
   "metadata": {},
   "outputs": [],
   "source": [
    "#Calculates the percent accuacy of correct classification\n",
    "y_compare = np.argmax(y_test, axis=1)\n",
    "score = metrics.accuracy_score(y_compare, pred)\n",
    "#print(\"Accuracy Score: {}\".format(score))"
   ]
  },
  {
   "cell_type": "code",
   "execution_count": 11,
   "metadata": {},
   "outputs": [],
   "source": [
    "#y_compare == pred"
   ]
  },
  {
   "cell_type": "code",
   "execution_count": 12,
   "metadata": {},
   "outputs": [],
   "source": [
    "#Calculate log loss (Inaccuracy of predictions)\n",
    "from IPython.display import display\n",
    "\n",
    "# Dont display numpy in SI notation\n",
    "np.set_printoptions(precision=4)\n",
    "np.set_printoptions(suppress=True)\n",
    "\n",
    "# Generate predictions\n",
    "pred = model.predict(x_test)\n",
    "\n",
    "#print(\"Numpy array of predictions\")\n",
    "#display(pred[0]*100)\n",
    "\n",
    "#print(\"As percent probability\")\n",
    "#display(pred[0:5]*100)\n",
    "\n",
    "score = metrics.log_loss(y_test, pred)\n",
    "#print(\"Log loss score: {}\".format(score))"
   ]
  },
  {
   "cell_type": "code",
   "execution_count": null,
   "metadata": {},
   "outputs": [],
   "source": []
  }
 ],
 "metadata": {
  "kernelspec": {
   "display_name": "Python 3.6 (tensorflow)",
   "language": "python",
   "name": "tensorflow"
  },
  "language_info": {
   "codemirror_mode": {
    "name": "ipython",
    "version": 3
   },
   "file_extension": ".py",
   "mimetype": "text/x-python",
   "name": "python",
   "nbconvert_exporter": "python",
   "pygments_lexer": "ipython3",
   "version": "3.6.8"
  }
 },
 "nbformat": 4,
 "nbformat_minor": 2
}
